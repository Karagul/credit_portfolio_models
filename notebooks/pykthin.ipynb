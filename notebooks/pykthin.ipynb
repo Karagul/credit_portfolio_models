{
 "cells": [
  {
   "cell_type": "code",
   "execution_count": 53,
   "metadata": {
    "collapsed": true
   },
   "outputs": [],
   "source": [
    "import datetime\n",
    "import numpy as np\n",
    "import sys, os\n",
    "sys.path.append('../../chart')\n",
    "sys.path.append('../../creditmodels')"
   ]
  },
  {
   "cell_type": "code",
   "execution_count": 54,
   "metadata": {
    "collapsed": false
   },
   "outputs": [
    {
     "data": {
      "text/plain": [
       "<module 'MultiFactorAdj.pykhtin_first_order' from '../../creditmodels/MultiFactorAdj/pykhtin_first_order.py'>"
      ]
     },
     "execution_count": 54,
     "metadata": {},
     "output_type": "execute_result"
    }
   ],
   "source": [
    "from MultiFactorAdj import pykhtin_first_order\n",
    "reload(pykhtin_first_order)"
   ]
  },
  {
   "cell_type": "code",
   "execution_count": 55,
   "metadata": {
    "collapsed": false
   },
   "outputs": [],
   "source": [
    "weights = zip(['50 50', '30 70', '20 80', '70 30' ], \n",
    "             [[0.5, 0.5] , [0.3, 0.7], [0.2, 0.8], [0.7, 0.3]])\n",
    "pd = np.array([ 0.001, 0.02 ])\n",
    "lgd = np.array([ 0.4, 0.4])\n",
    "vol_lgd = np.array([0.2, 0.2])\n",
    "r_intra = np.array([0.5, 0.2])\n",
    "x_list = np.arange(0.1, 0.6, 0.1)#pylab.arange(0.05, 1.0, 0.05)##\n",
    "alpha =0.999"
   ]
  },
  {
   "cell_type": "code",
   "execution_count": 56,
   "metadata": {
    "collapsed": false
   },
   "outputs": [],
   "source": [
    "loss = []\n",
    "for tag,weight in weights:\n",
    "    loss.extend(pykhtin_first_order.main_loss(tag, weight, pd, lgd, vol_lgd, r_intra, alpha, x_list))\n",
    "    "
   ]
  },
  {
   "cell_type": "code",
   "execution_count": 57,
   "metadata": {
    "collapsed": false
   },
   "outputs": [
    {
     "data": {
      "text/html": [
       "\n",
       "    <script src=\"http://code.highcharts.com/highcharts.js\"></script>\n",
       "<div id=\"chart_KC0KTB6OHQVFC9R\" style=\"min-width: 400px; height: 400px; margin: 0 auto\">Re-run cell if chart is not shown ...</div>\n",
       "<script>\n",
       "    do_chart_KC0KTB6OHQVFC9R = function() {\n",
       "        $('#chart_KC0KTB6OHQVFC9R').highcharts({\"exporting\": {\"enabled\": \"true\", \"sourceWidth\": 1000, \"filename\": \"highchart_chart\"}, \"subtitle\": {\"text\": \"with different loss percentage\", \"x\": -20}, \"xAxis\": {\"plotLines\": [], \"type\": \"string\", \"title\": {\"text\": \" loss \"}}, \"title\": {\"text\": \"VaR\", \"x\": -20}, \"series\": [{\"data\": [[0.10000000000000001, 0.014595372802521321], [0.20000000000000001, 0.015182362136400189], [0.30000000000000004, 0.01582272326059242], [0.40000000000000002, 0.016515056449890559], [0.5, 0.017258353422445836]], \"name\": \"50 50 base loss\"}, {\"data\": [[0.10000000000000001, 0.015304735960376795], [0.20000000000000001, 0.015811523875961294], [0.30000000000000004, 0.016384056105572746], [0.40000000000000002, 0.016998220095401969], [0.5, 0.017631948011191691]], \"name\": \"50 50 loss first order\"}, {\"data\": [[0.10000000000000001, 0.019996566306399535], [0.20000000000000001, 0.020228326165565379], [0.30000000000000004, 0.020515796802976962], [0.40000000000000002, 0.020863476242185552], [0.5, 0.02127578820293664]], \"name\": \"30 70 base loss\"}, {\"data\": [[0.10000000000000001, 0.020249243937349875], [0.20000000000000001, 0.020395937373845069], [0.30000000000000004, 0.020610238917444408], [0.40000000000000002, 0.020898509234607669], [0.5, 0.02126026394237078]], \"name\": \"30 70 loss first order\"}, {\"data\": [[0.10000000000000001, 0.022885253986703186], [0.20000000000000001, 0.023005531386393822], [0.30000000000000004, 0.023163521560615245], [0.40000000000000002, 0.02336486733440522], [0.5, 0.023615441946913257]], \"name\": \"20 80 base loss\"}, {\"data\": [[0.10000000000000001, 0.022989703147488608], [0.20000000000000001, 0.023068096231083315], [0.30000000000000004, 0.023183149195827483], [0.40000000000000002, 0.023342990983046607], [0.5, 0.023553613705920663]], \"name\": \"20 80 loss first order\"}, {\"data\": [[0.10000000000000001, 0.011938400717079183], [0.20000000000000001, 0.012682379967032311], [0.30000000000000004, 0.013435013333457452], [0.40000000000000002, 0.014196884991179486], [0.5, 0.014968494738853196]], \"name\": \"70 30 base loss\"}, {\"data\": [[0.10000000000000001, 0.014164187402735359], [0.20000000000000001, 0.014480697785482968], [0.30000000000000004, 0.014814565293057753], [0.40000000000000002, 0.015163583816184135], [0.5, 0.015526167011211208]], \"name\": \"70 30 loss first order\"}], \"yAxis\": {\"plotLines\": [{\"color\": \"#808080\", \"width\": 1, \"value\": 0}], \"title\": {\"text\": \" value \"}}, \"navigation\": {\"buttonOptions\": {\"align\": \"left\"}}, \"chart\": {\"zoomType\": \"x\", \"marginBottom\": 25, \"type\": \"line\", \"marginRight\": 130}, \"tooltip\": {\"crosshairs\": \"true\"}, \"legend\": {\"verticalAlign\": \"top\", \"align\": \"right\", \"layout\": \"vertical\", \"borderWidth\": 0}});\n",
       "    }\n",
       "    setTimeout(\"do_chart_KC0KTB6OHQVFC9R()\", 50)\n",
       "</script>\n"
      ],
      "text/plain": [
       "<IPython.core.display.HTML object>"
      ]
     },
     "execution_count": 57,
     "metadata": {},
     "output_type": "execute_result"
    }
   ],
   "source": [
    "import highcharts_lines as chart\n",
    "reload(chart)\n",
    "chart.initialize_highcharts()\n",
    "chart.create_from_data_series(loss, title = 'VaR', subtitle = \"with different loss percentage\",\n",
    "                              ylabel = ' value ', xlabel = ' loss ', xtype = 'string')\n"
   ]
  },
  {
   "cell_type": "code",
   "execution_count": 58,
   "metadata": {
    "collapsed": false
   },
   "outputs": [],
   "source": [
    "es = []\n",
    "for tag,weight in weights:\n",
    "    es.extend(pykhtin_first_order.main_es(tag, weight, pd, lgd, vol_lgd, r_intra, alpha, x_list))\n",
    "    "
   ]
  },
  {
   "cell_type": "code",
   "execution_count": 59,
   "metadata": {
    "collapsed": false
   },
   "outputs": [
    {
     "data": {
      "text/html": [
       "\n",
       "    <script src=\"http://code.highcharts.com/highcharts.js\"></script>\n",
       "<div id=\"chart_XTKWADM06F9BN1W\" style=\"min-width: 400px; height: 400px; margin: 0 auto\">Re-run cell if chart is not shown ...</div>\n",
       "<script>\n",
       "    do_chart_XTKWADM06F9BN1W = function() {\n",
       "        $('#chart_XTKWADM06F9BN1W').highcharts({\"exporting\": {\"enabled\": \"true\", \"sourceWidth\": 1000, \"filename\": \"highchart_chart\"}, \"subtitle\": {\"text\": \"with different loss percentage\", \"x\": -20}, \"xAxis\": {\"plotLines\": [], \"type\": \"string\", \"title\": {\"text\": \" loss \"}}, \"title\": {\"text\": \"Expected Shortfall\", \"x\": -20}, \"series\": [{\"data\": [[0.10000000000000001, 0.014595372802521321], [0.20000000000000001, 0.015182362136400189], [0.30000000000000004, 0.01582272326059242], [0.40000000000000002, 0.016515056449890559], [0.5, 0.017258353422445836]], \"name\": \"50 50 base loss\"}, {\"data\": [[0.10000000000000001, 0.015304735960376795], [0.20000000000000001, 0.015811523875961294], [0.30000000000000004, 0.016384056105572746], [0.40000000000000002, 0.016998220095401969], [0.5, 0.017631948011191691]], \"name\": \"50 50 loss first order\"}, {\"data\": [[0.10000000000000001, 0.019996566306399535], [0.20000000000000001, 0.020228326165565379], [0.30000000000000004, 0.020515796802976962], [0.40000000000000002, 0.020863476242185552], [0.5, 0.02127578820293664]], \"name\": \"30 70 base loss\"}, {\"data\": [[0.10000000000000001, 0.020249243937349875], [0.20000000000000001, 0.020395937373845069], [0.30000000000000004, 0.020610238917444408], [0.40000000000000002, 0.020898509234607669], [0.5, 0.02126026394237078]], \"name\": \"30 70 loss first order\"}, {\"data\": [[0.10000000000000001, 0.022885253986703186], [0.20000000000000001, 0.023005531386393822], [0.30000000000000004, 0.023163521560615245], [0.40000000000000002, 0.02336486733440522], [0.5, 0.023615441946913257]], \"name\": \"20 80 base loss\"}, {\"data\": [[0.10000000000000001, 0.022989703147488608], [0.20000000000000001, 0.023068096231083315], [0.30000000000000004, 0.023183149195827483], [0.40000000000000002, 0.023342990983046607], [0.5, 0.023553613705920663]], \"name\": \"20 80 loss first order\"}, {\"data\": [[0.10000000000000001, 0.011938400717079183], [0.20000000000000001, 0.012682379967032311], [0.30000000000000004, 0.013435013333457452], [0.40000000000000002, 0.014196884991179486], [0.5, 0.014968494738853196]], \"name\": \"70 30 base loss\"}, {\"data\": [[0.10000000000000001, 0.014164187402735359], [0.20000000000000001, 0.014480697785482968], [0.30000000000000004, 0.014814565293057753], [0.40000000000000002, 0.015163583816184135], [0.5, 0.015526167011211208]], \"name\": \"70 30 loss first order\"}], \"yAxis\": {\"plotLines\": [{\"color\": \"#808080\", \"width\": 1, \"value\": 0}], \"title\": {\"text\": \" value \"}}, \"navigation\": {\"buttonOptions\": {\"align\": \"left\"}}, \"chart\": {\"zoomType\": \"x\", \"marginBottom\": 25, \"type\": \"line\", \"marginRight\": 130}, \"tooltip\": {\"crosshairs\": \"true\"}, \"legend\": {\"verticalAlign\": \"top\", \"align\": \"right\", \"layout\": \"vertical\", \"borderWidth\": 0}});\n",
       "    }\n",
       "    setTimeout(\"do_chart_XTKWADM06F9BN1W()\", 50)\n",
       "</script>\n"
      ],
      "text/plain": [
       "<IPython.core.display.HTML object>"
      ]
     },
     "execution_count": 59,
     "metadata": {},
     "output_type": "execute_result"
    }
   ],
   "source": [
    "import highcharts_lines as chart\n",
    "reload(chart)\n",
    "chart.initialize_highcharts()\n",
    "chart.create_from_data_series(loss, title = 'Expected Shortfall', subtitle = \"with different loss percentage\",\n",
    "                              ylabel = ' value ', xlabel = ' loss ', xtype = 'string')\n",
    "\n",
    "\n"
   ]
  },
  {
   "cell_type": "code",
   "execution_count": 60,
   "metadata": {
    "collapsed": true
   },
   "outputs": [],
   "source": [
    "finite_loss = []\n",
    "for tag,weight in weights:\n",
    "    finite_loss.extend(pykhtin_first_order.main_finite_loss(tag, weight, pd, lgd, vol_lgd, r_intra, alpha, x_list))"
   ]
  },
  {
   "cell_type": "code",
   "execution_count": 61,
   "metadata": {
    "collapsed": false
   },
   "outputs": [
    {
     "data": {
      "text/html": [
       "\n",
       "    <script src=\"http://code.highcharts.com/highcharts.js\"></script>\n",
       "<div id=\"chart_Q720PM8ZP5DTV1T\" style=\"min-width: 400px; height: 400px; margin: 0 auto\">Re-run cell if chart is not shown ...</div>\n",
       "<script>\n",
       "    do_chart_Q720PM8ZP5DTV1T = function() {\n",
       "        $('#chart_Q720PM8ZP5DTV1T').highcharts({\"exporting\": {\"enabled\": \"true\", \"sourceWidth\": 1000, \"filename\": \"highchart_chart\"}, \"subtitle\": {\"text\": \"with different loss percentage\", \"x\": -20}, \"xAxis\": {\"plotLines\": [], \"type\": \"string\", \"title\": {\"text\": \" loss \"}}, \"title\": {\"text\": \"VaR finite loss\", \"x\": -20}, \"series\": [{\"data\": [[0.10000000000000001, 0.014595372802521316], [0.20000000000000001, 0.015182362136400195], [0.30000000000000004, 0.015822723260592426], [0.40000000000000002, 0.016515056449890545], [0.5, 0.017258353422445829]], \"name\": \"50 50 base loss\"}, {\"data\": [[0.10000000000000001, 0.035819392337241976], [0.20000000000000001, 0.035016920202961835], [0.30000000000000004, 0.034305297885410133], [0.40000000000000002, 0.033684689104537729], [0.5, 0.033148586227913897]], \"name\": \"50 50 loss first order\"}, {\"data\": [[0.10000000000000001, 0.019996566306399545], [0.20000000000000001, 0.020228326165565386], [0.30000000000000004, 0.020515796802976969], [0.40000000000000002, 0.020863476242185541], [0.5, 0.02127578820293663]], \"name\": \"30 70 base loss\"}, {\"data\": [[0.10000000000000001, 0.052051371346673175], [0.20000000000000001, 0.05157626221888742], [0.30000000000000004, 0.050987863969076841], [0.40000000000000002, 0.050293600083100562], [0.5, 0.049503997087173894]], \"name\": \"30 70 loss first order\"}, {\"data\": [[0.10000000000000001, 0.022885253986703182], [0.20000000000000001, 0.023005531386393843], [0.30000000000000004, 0.023163521560615248], [0.40000000000000002, 0.023364867334405192], [0.5, 0.023615441946913264]], \"name\": \"20 80 base loss\"}, {\"data\": [[0.10000000000000001, 0.059508859513997397], [0.20000000000000001, 0.05927523724295259], [0.30000000000000004, 0.058941405961854203], [0.40000000000000002, 0.05849404418966115], [0.5, 0.057922495170326174]], \"name\": \"20 80 loss first order\"}, {\"data\": [[0.10000000000000001, 0.011938400717079214], [0.20000000000000001, 0.012682379967032319], [0.30000000000000004, 0.013435013333457407], [0.40000000000000002, 0.014196884991179467], [0.5, 0.014968494738853151]], \"name\": \"70 30 base loss\"}, {\"data\": [[0.10000000000000001, 0.021215351890298974], [0.20000000000000001, 0.021240769144976333], [0.30000000000000004, 0.021311074506498218], [0.40000000000000002, 0.021420087436197787], [0.5, 0.021562961918632058]], \"name\": \"70 30 loss first order\"}], \"yAxis\": {\"plotLines\": [{\"color\": \"#808080\", \"width\": 1, \"value\": 0}], \"title\": {\"text\": \" value \"}}, \"navigation\": {\"buttonOptions\": {\"align\": \"left\"}}, \"chart\": {\"zoomType\": \"x\", \"marginBottom\": 25, \"type\": \"line\", \"marginRight\": 130}, \"tooltip\": {\"crosshairs\": \"true\"}, \"legend\": {\"verticalAlign\": \"top\", \"align\": \"right\", \"layout\": \"vertical\", \"borderWidth\": 0}});\n",
       "    }\n",
       "    setTimeout(\"do_chart_Q720PM8ZP5DTV1T()\", 50)\n",
       "</script>\n"
      ],
      "text/plain": [
       "<IPython.core.display.HTML object>"
      ]
     },
     "execution_count": 61,
     "metadata": {},
     "output_type": "execute_result"
    }
   ],
   "source": [
    "import highcharts_lines as chart\n",
    "reload(chart)\n",
    "chart.initialize_highcharts()\n",
    "chart.create_from_data_series(finite_loss, title = 'VaR finite loss', subtitle = \"with different loss percentage\",\n",
    "                              ylabel = ' value ', xlabel = ' loss ', xtype = 'string')\n",
    "\n",
    "\n"
   ]
  },
  {
   "cell_type": "code",
   "execution_count": 62,
   "metadata": {
    "collapsed": true
   },
   "outputs": [],
   "source": [
    "m_lists = zip(['model1', 'model2', 'model3'],\n",
    "              [[50, 100 ]*5, \n",
    "               [10, 20 ]*5,\n",
    "               [10, 20 , 50, 50 , 100, 100, 200, 200, 500, 1000 ]])\n"
   ]
  },
  {
   "cell_type": "code",
   "execution_count": 64,
   "metadata": {
    "collapsed": false
   },
   "outputs": [],
   "source": [
    "multifactor_var = []\n",
    "for tag,weight in m_lists:\n",
    "    multifactor_var.extend(pykhtin_first_order.main_multifactor_loss(tag, alpha, x_list, weight))"
   ]
  },
  {
   "cell_type": "code",
   "execution_count": 65,
   "metadata": {
    "collapsed": false
   },
   "outputs": [
    {
     "data": {
      "text/html": [
       "\n",
       "    <script src=\"http://code.highcharts.com/highcharts.js\"></script>\n",
       "<div id=\"chart_XL7UPBV2BMRQHLN\" style=\"min-width: 400px; height: 400px; margin: 0 auto\">Re-run cell if chart is not shown ...</div>\n",
       "<script>\n",
       "    do_chart_XL7UPBV2BMRQHLN = function() {\n",
       "        $('#chart_XL7UPBV2BMRQHLN').highcharts({\"exporting\": {\"enabled\": \"true\", \"sourceWidth\": 1000, \"filename\": \"highchart_chart\"}, \"subtitle\": {\"text\": \"with different loss percentage\", \"x\": -20}, \"xAxis\": {\"plotLines\": [], \"type\": \"string\", \"title\": {\"text\": \" loss \"}}, \"title\": {\"text\": \"VaR multifactor\", \"x\": -20}, \"series\": [{\"data\": [[0.10000000000000001, 0.012178433949129149], [0.20000000000000001, 0.014359715430445241], [0.30000000000000004, 0.016591393070736201], [0.40000000000000002, 0.018883806367795249], [0.5, 0.021246044450759304]], \"name\": \"model1 base var\"}, {\"data\": [[0.10000000000000001, 0.015362132089754399], [0.20000000000000001, 0.016957871995659249], [0.30000000000000004, 0.018831497688212784], [0.40000000000000002, 0.020876793962336004], [0.5, 0.023055469818638735]], \"name\": \"model1 var granularity adj\"}, {\"data\": [[0.10000000000000001, 0.012178433949129149], [0.20000000000000001, 0.014359715430445241], [0.30000000000000004, 0.016591393070736201], [0.40000000000000002, 0.018883806367795249], [0.5, 0.021246044450759304]], \"name\": \"model2 base var\"}, {\"data\": [[0.10000000000000001, 0.028096924652255349], [0.20000000000000001, 0.027350498256515164], [0.30000000000000004, 0.027791916158119243], [0.40000000000000002, 0.028848744340498757], [0.5, 0.030293171290156403]], \"name\": \"model2 var granularity adj\"}, {\"data\": [[0.10000000000000001, 0.012178433949129149], [0.20000000000000001, 0.014359715430445241], [0.30000000000000004, 0.016591393070736201], [0.40000000000000002, 0.018883806367795249], [0.5, 0.021246044450759304]], \"name\": \"model3 base var\"}, {\"data\": [[0.10000000000000001, 0.014411203864798026], [0.20000000000000001, 0.016394038725409021], [0.30000000000000004, 0.018496985638475096], [0.40000000000000002, 0.020695929380168721], [0.5, 0.022985434262595517]], \"name\": \"model3 var granularity adj\"}], \"yAxis\": {\"plotLines\": [{\"color\": \"#808080\", \"width\": 1, \"value\": 0}], \"title\": {\"text\": \" value \"}}, \"navigation\": {\"buttonOptions\": {\"align\": \"left\"}}, \"chart\": {\"zoomType\": \"x\", \"marginBottom\": 25, \"type\": \"line\", \"marginRight\": 130}, \"tooltip\": {\"crosshairs\": \"true\"}, \"legend\": {\"verticalAlign\": \"top\", \"align\": \"right\", \"layout\": \"vertical\", \"borderWidth\": 0}});\n",
       "    }\n",
       "    setTimeout(\"do_chart_XL7UPBV2BMRQHLN()\", 50)\n",
       "</script>\n"
      ],
      "text/plain": [
       "<IPython.core.display.HTML object>"
      ]
     },
     "execution_count": 65,
     "metadata": {},
     "output_type": "execute_result"
    }
   ],
   "source": [
    "import highcharts_lines as chart\n",
    "reload(chart)\n",
    "chart.initialize_highcharts()\n",
    "chart.create_from_data_series(multifactor_var, title = 'VaR multifactor', subtitle = \"with different loss percentage\",\n",
    "                              ylabel = ' value ', xlabel = ' loss ', xtype = 'string')\n",
    "\n"
   ]
  },
  {
   "cell_type": "code",
   "execution_count": 66,
   "metadata": {
    "collapsed": false
   },
   "outputs": [],
   "source": [
    "multifactor_es = []\n",
    "for tag,weight in m_lists:\n",
    "    multifactor_es.extend(pykhtin_first_order.main_multifactor_es(tag, alpha, x_list, weight))"
   ]
  },
  {
   "cell_type": "code",
   "execution_count": 67,
   "metadata": {
    "collapsed": false
   },
   "outputs": [
    {
     "data": {
      "text/html": [
       "\n",
       "    <script src=\"http://code.highcharts.com/highcharts.js\"></script>\n",
       "<div id=\"chart_6W1ZZH9I696167Q\" style=\"min-width: 400px; height: 400px; margin: 0 auto\">Re-run cell if chart is not shown ...</div>\n",
       "<script>\n",
       "    do_chart_6W1ZZH9I696167Q = function() {\n",
       "        $('#chart_6W1ZZH9I696167Q').highcharts({\"exporting\": {\"enabled\": \"true\", \"sourceWidth\": 1000, \"filename\": \"highchart_chart\"}, \"subtitle\": {\"text\": \"with different loss percentage\", \"x\": -20}, \"xAxis\": {\"plotLines\": [], \"type\": \"string\", \"title\": {\"text\": \" loss \"}}, \"title\": {\"text\": \"Expected Shortfall multifactor\", \"x\": -20}, \"series\": [{\"data\": [[0.10000000000000001, 0.013642589292996419], [0.20000000000000001, 0.016438069379245523], [0.30000000000000004, 0.01935867268163944], [0.40000000000000002, 0.022417352206696304], [0.5, 0.025624702992170543]], \"name\": \"model1 base es\"}, {\"data\": [[0.10000000000000001, 0.017103064089689132], [0.20000000000000001, 0.019261264537104972], [0.30000000000000004, 0.021794435872065452], [0.40000000000000002, 0.024587314522210635], [0.5, 0.027598462795816785]], \"name\": \"model1 es granularity adj\"}, {\"data\": [[0.10000000000000001, 0.013642589292996419], [0.20000000000000001, 0.016438069379245523], [0.30000000000000004, 0.01935867268163944], [0.40000000000000002, 0.022417352206696304], [0.5, 0.025624702992170543]], \"name\": \"model2 base es\"}, {\"data\": [[0.10000000000000001, 0.03094496327645993], [0.20000000000000001, 0.030554045168542612], [0.30000000000000004, 0.031537488633769595], [0.40000000000000002, 0.033267163784267757], [0.5, 0.03549350201040171]], \"name\": \"model2 es granularity adj\"}, {\"data\": [[0.10000000000000001, 0.013642589292996419], [0.20000000000000001, 0.016438069379245523], [0.30000000000000004, 0.01935867268163944], [0.40000000000000002, 0.022417352206696304], [0.5, 0.025624702992170543]], \"name\": \"model3 base es\"}, {\"data\": [[0.10000000000000001, 0.016242549410822739], [0.20000000000000001, 0.018841645701753257], [0.30000000000000004, 0.021636706631456035], [0.40000000000000002, 0.024605888248371552], [0.5, 0.027745188040462745]], \"name\": \"model3 es granularity adj\"}], \"yAxis\": {\"plotLines\": [{\"color\": \"#808080\", \"width\": 1, \"value\": 0}], \"title\": {\"text\": \" value \"}}, \"navigation\": {\"buttonOptions\": {\"align\": \"left\"}}, \"chart\": {\"zoomType\": \"x\", \"marginBottom\": 25, \"type\": \"line\", \"marginRight\": 130}, \"tooltip\": {\"crosshairs\": \"true\"}, \"legend\": {\"verticalAlign\": \"top\", \"align\": \"right\", \"layout\": \"vertical\", \"borderWidth\": 0}});\n",
       "    }\n",
       "    setTimeout(\"do_chart_6W1ZZH9I696167Q()\", 50)\n",
       "</script>\n"
      ],
      "text/plain": [
       "<IPython.core.display.HTML object>"
      ]
     },
     "execution_count": 67,
     "metadata": {},
     "output_type": "execute_result"
    }
   ],
   "source": [
    "import highcharts_lines as chart\n",
    "reload(chart)\n",
    "chart.initialize_highcharts()\n",
    "chart.create_from_data_series(multifactor_es, title = 'Expected Shortfall multifactor', subtitle = \"with different loss percentage\",\n",
    "                              ylabel = ' value ', xlabel = ' loss ', xtype = 'string')"
   ]
  }
 ],
 "metadata": {
  "kernelspec": {
   "display_name": "Python 2",
   "language": "python",
   "name": "python2"
  },
  "language_info": {
   "codemirror_mode": {
    "name": "ipython",
    "version": 2
   },
   "file_extension": ".py",
   "mimetype": "text/x-python",
   "name": "python",
   "nbconvert_exporter": "python",
   "pygments_lexer": "ipython2",
   "version": "2.7.8"
  }
 },
 "nbformat": 4,
 "nbformat_minor": 0
}
